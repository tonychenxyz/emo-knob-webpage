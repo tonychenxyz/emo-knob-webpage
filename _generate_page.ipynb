{
 "cells": [
  {
   "cell_type": "code",
   "execution_count": 112,
   "metadata": {},
   "outputs": [],
   "source": [
    "html = '''<html><head><link rel=\"preconnect\" href=\"https://fonts.googleapis.com\">\n",
    "<link rel=\"preconnect\" href=\"https://fonts.gstatic.com\" crossorigin>\n",
    "<link href=\"https://fonts.googleapis.com/css2?family=Inter:wght@100..900&display=swap\" rel=\"stylesheet\">\n",
    "<link rel=\"stylesheet\" type=\"text/css\" href=\"styles.css\"><script src=\"scripts.js\"></script></head><body>'''\n"
   ]
  },
  {
   "cell_type": "code",
   "execution_count": 113,
   "metadata": {},
   "outputs": [],
   "source": [
    "emotions_cap = ['Angry', 'Happy', 'Sad', 'Surprise', 'Contempt', 'Disgust']\n",
    "\n",
    "html += '<h1 class=\"section-title\">Simple Emotion Enhancement</h1>'\n",
    "\n",
    "html += '<p class=\"section-desc\">This section shows examples of enhancing an <b> emotional text </b> with fine-grained emotion control of the corresponding emotion on simple emotions. Number in parentheses is the strength of the emotion control. All emotion direction vectors are obtained with <b> single-shot </b> (one pair of emotional and neutral clip). </p>'\n",
    "\n",
    "\n",
    "for emotion_cap in emotions_cap:\n",
    "\n",
    "    emotion = emotion_cap.lower()\n",
    "    table = '''<div class=\"simple-emo-grid grid grid-rows-3 lg:grid-rows-3 gap-5\" style=\"grid-template-columns: repeat(7, 1fr);\">'''\n",
    "    # Add row titles\n",
    "    strengths = [0.0, 0.1, 0.2, 0.3, 0.4, 0.5]\n",
    "    col_titles = ['Original <br> Clone'] + [f'{emotion_cap} <br> ({strength:.1f})' for strength in strengths[1:]]\n",
    "    # Add column titles\n",
    "    row_titles = ['<br>', 'Sentence 1', 'Sentence 2', 'Sentence 3']\n",
    "    table += '<div class=\"grid grid-cols-3 text-center font-bold\">'\n",
    "    for title in row_titles:\n",
    "        if title == '<br>':\n",
    "            table += f'<div class=\"row-title-empty row-title p-2 rounded-lg bg-[#CFDFFF] text-center\">{title}</div>'\n",
    "        else:\n",
    "            table += f'<div class=\"row-title p-2 rounded-lg bg-[#CFDFFF] text-center\">{title}</div>'\n",
    "    table += '</div>'\n",
    "    for display_beta_idx, beta in enumerate(strengths):\n",
    "        table += f'<div class=\"flex flex-col items-center\">'\n",
    "        table += f'<div class=\"col-title p-2 rounded-lg bg-[#CFDFFF] font-bold text-center\">{col_titles[display_beta_idx % 7]}</div>'\n",
    "        for actual_sentence_idx in range(3):\n",
    "            row = display_beta_idx + 1\n",
    "            col = actual_sentence_idx + 1\n",
    "            table += f'<div class=\"p-2 rounded-lg flex flex-col space-y-2 bg-[#CFDFFF] items-center\" data-row=\"{row}\" data-col=\"{col}\">'\n",
    "            table += '<div class=\"flex space-x-2 items-center justify-center\">'\n",
    "            table += '<span class=\"cursor-pointer\"><svg xmlns=\"http://www.w3.org/2000/svg\" viewBox=\"0 0 24 24\" fill=\"currentColor\" aria-hidden=\"true\" class=\"w-5 h-5\"><path fill-rule=\"evenodd\" d=\"M4.5 5.653c0-1.426 1.529-2.33 2.779-1.643l11.54 6.348c1.295.712 1.295 2.573 0 3.285L7.28 19.991c-1.25.687-2.779-.217-2.779-1.643V5.653z\" clip-rule=\"evenodd\"></path></svg></span>'\n",
    "            table += '</span>'\n",
    "            table += '</div>'\n",
    "            table += f'<audio src=\"audios/simple_emotion_emotext/{emotion}_{beta}_1_emotext{actual_sentence_idx}_MSP.wav\"></audio>'\n",
    "            table += '</div>'\n",
    "        table += '</div>'\n",
    "    table += '</div>'\n",
    "    html += table\n",
    "\n",
    "\n",
    "\n",
    "\n",
    "\n",
    "\n",
    "\n"
   ]
  },
  {
   "cell_type": "code",
   "execution_count": 114,
   "metadata": {},
   "outputs": [],
   "source": [
    "html += '</body></html>'\n",
    "with open('index.html', 'w') as f:\n",
    "    f.write(html)"
   ]
  },
  {
   "cell_type": "code",
   "execution_count": null,
   "metadata": {},
   "outputs": [],
   "source": []
  }
 ],
 "metadata": {
  "kernelspec": {
   "display_name": "Python 3",
   "language": "python",
   "name": "python3"
  },
  "language_info": {
   "codemirror_mode": {
    "name": "ipython",
    "version": 3
   },
   "file_extension": ".py",
   "mimetype": "text/x-python",
   "name": "python",
   "nbconvert_exporter": "python",
   "pygments_lexer": "ipython3",
   "version": "3.9.12"
  }
 },
 "nbformat": 4,
 "nbformat_minor": 2
}
